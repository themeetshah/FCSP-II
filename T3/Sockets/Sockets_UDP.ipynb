{
 "cells": [
  {
   "cell_type": "code",
   "execution_count": 1,
   "metadata": {},
   "outputs": [
    {
     "name": "stdout",
     "output_type": "stream",
     "text": [
      "Writing udp_server.py\n"
     ]
    }
   ],
   "source": [
    "%%writefile udp_server.py\n",
    "import socket\n",
    "\n",
    "host = socket.gethostname()\n",
    "port = 8000\n",
    "\n",
    "ser = socket.socket(type=socket.SOCK_DGRAM)\n",
    "ser.bind((host, port))\n",
    "\n",
    "while True:\n",
    "    print('Waiting for message....')\n",
    "    data, addr = ser.recvfrom(1024)\n",
    "    print('Received',data,'from',addr)\n",
    "    msg = input('Enter msg: ')\n",
    "    ser.sendto(msg.encode().addr)\n",
    "ser.close()\n",
    "\n",
    "# recvfrom <-> recv\n",
    "# send <-> sendto"
   ]
  },
  {
   "cell_type": "code",
   "execution_count": 3,
   "metadata": {},
   "outputs": [
    {
     "name": "stdout",
     "output_type": "stream",
     "text": [
      "Overwriting udp_client.py\n"
     ]
    }
   ],
   "source": [
    "%%writefile udp_client.py\n",
    "import socket\n",
    "\n",
    "host = socket.gethostname()\n",
    "port = 8000\n",
    "\n",
    "client = socket.socket(type=socket.SOCK_DGRAM)\n",
    "\n",
    "while True:\n",
    "    data = input('Enter data to send: ')\n",
    "    if not data:\n",
    "        break\n",
    "    client.sendto(data.encode(), (host, port))\n",
    "    print('Ready to receive data')\n",
    "    data, addr = client.recvfrom(1024)\n",
    "    if not data:\n",
    "        break\n",
    "    print('Received:',data.decode())\n",
    "client.close()"
   ]
  },
  {
   "cell_type": "code",
   "execution_count": null,
   "metadata": {},
   "outputs": [],
   "source": []
  }
 ],
 "metadata": {
  "kernelspec": {
   "display_name": "Python 3",
   "language": "python",
   "name": "python3"
  },
  "language_info": {
   "codemirror_mode": {
    "name": "ipython",
    "version": 3
   },
   "file_extension": ".py",
   "mimetype": "text/x-python",
   "name": "python",
   "nbconvert_exporter": "python",
   "pygments_lexer": "ipython3",
   "version": "3.8.5"
  }
 },
 "nbformat": 4,
 "nbformat_minor": 4
}
