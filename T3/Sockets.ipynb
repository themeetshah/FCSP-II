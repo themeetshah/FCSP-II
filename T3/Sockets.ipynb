{
 "cells": [
  {
   "cell_type": "code",
   "execution_count": null,
   "id": "e10d53b1",
   "metadata": {
    "vscode": {
     "languageId": "plaintext"
    }
   },
   "outputs": [],
   "source": [
    "# IP: 192.168.107.205\n",
    "# http : 80\n",
    "# https : 443\n",
    "# netstat -ano : gives all ports in use"
   ]
  },
  {
   "cell_type": "code",
   "execution_count": null,
   "id": "9127d2d9",
   "metadata": {
    "vscode": {
     "languageId": "plaintext"
    }
   },
   "outputs": [],
   "source": [
    "%%writefile tcp_server.py\n",
    "import socket\n",
    "host = socket.gethostname()\n",
    "port = 5000\n",
    "\n",
    "# server = socket.socket() # by default tcp socket\n",
    "server = socket.socket(type=socket.SOCK_STREAM) # for tcp\n",
    "server.bind((host, port))\n",
    "server.listen()\n",
    "\n",
    "conn, addr = server.accept()\n",
    "print('Connection from:',addr)\n",
    "\n",
    "while True: \n",
    "    data = conn.recv(1024).decode()\n",
    "     if not data:\n",
    "         break\n",
    "    print('From connected user:', data)\n",
    "    data = input('Enter Response: ')\n",
    "    conn.send(data.encode())\n",
    "conn.close()"
   ]
  },
  {
   "cell_type": "code",
   "execution_count": null,
   "id": "932d0b70",
   "metadata": {
    "vscode": {
     "languageId": "plaintext"
    }
   },
   "outputs": [],
   "source": [
    "%%writefile tcp_client.py\n",
    "import socket\n",
    "host = socket.gethostname()\n",
    "port = 5000\n",
    "\n",
    "client = socket.socket()\n",
    "client.connect((host, port))\n",
    "\n",
    "msg = input('Enter msg to send: ')\n",
    "\n",
    "while msg!='bye':\n",
    "    client.send(msg.encode())\n",
    "    data = client.recv(1024).decode()\n",
    "    \n",
    "    print('Received from server:',data)\n",
    "    \n",
    "    msg = input('Enter msg to send: ')\n",
    "client.close()"
   ]
  }
 ],
 "metadata": {
  "language_info": {
   "name": "python"
  }
 },
 "nbformat": 4,
 "nbformat_minor": 5
}
