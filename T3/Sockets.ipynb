{
 "cells": [
  {
   "cell_type": "code",
   "execution_count": null,
   "metadata": {
    "vscode": {
     "languageId": "plaintext"
    }
   },
   "outputs": [],
   "source": [
    "# IP: 192.168.107.205\n",
    "# http : 80\n",
    "# https : 443\n",
    "# netstat -ano : gives all ports in use"
   ]
  },
  {
   "cell_type": "code",
   "execution_count": 4,
   "metadata": {
    "vscode": {
     "languageId": "plaintext"
    }
   },
   "outputs": [
    {
     "name": "stdout",
     "output_type": "stream",
     "text": [
      "Writing tcp_server.py\n"
     ]
    }
   ],
   "source": [
    "%%writefile tcp_server.py\n",
    "import socket\n",
    "host = socket.gethostname()\n",
    "port = 5000\n",
    "\n",
    "# server = socket.socket() # by default tcp socket\n",
    "server = socket.socket(type=socket.SOCK_STREAM) # for tcp\n",
    "server.bind((host, port))\n",
    "server.listen()\n",
    "\n",
    "conn, addr = server.accept()\n",
    "print('Connection from:',addr)\n",
    "\n",
    "while True: \n",
    "    data = conn.recv(1024).decode()\n",
    "     if not data:\n",
    "         break\n",
    "    print('From connected user:', data)\n",
    "    data = input('Enter Response: ')\n",
    "    conn.send(data.encode())\n",
    "conn.close()"
   ]
  },
  {
   "cell_type": "code",
   "execution_count": 5,
   "metadata": {
    "vscode": {
     "languageId": "plaintext"
    }
   },
   "outputs": [
    {
     "name": "stdout",
     "output_type": "stream",
     "text": [
      "Writing tcp_client.py\n"
     ]
    }
   ],
   "source": [
    "%%writefile tcp_client.py\n",
    "import socket\n",
    "host = socket.gethostname()\n",
    "port = 5000\n",
    "\n",
    "client = socket.socket()\n",
    "client.connect((host, port))\n",
    "\n",
    "msg = input('Enter msg to send: ')\n",
    "\n",
    "while msg!='bye':\n",
    "    client.send(msg.encode())\n",
    "    data = client.recv(1024).decode()\n",
    "    \n",
    "    print('Received from server:',data)\n",
    "    \n",
    "    msg = input('Enter msg to send: ')\n",
    "client.close()"
   ]
  },
  {
   "cell_type": "code",
   "execution_count": 1,
   "metadata": {},
   "outputs": [],
   "source": [
    "# file transfer"
   ]
  },
  {
   "cell_type": "code",
   "execution_count": 2,
   "metadata": {},
   "outputs": [
    {
     "name": "stdout",
     "output_type": "stream",
     "text": [
      "Writing tcp_file_client.py\n"
     ]
    }
   ],
   "source": [
    "%%writefile tcp_file_client.py\n",
    "import socket\n",
    "# host = '192.168.104.212'\n",
    "host = socket.gethostname()\n",
    "port=6000\n",
    "filename = 'File1.txt'\n",
    "\n",
    "client = socket.socket()\n",
    "client.connect((host,port))\n",
    "\n",
    "client.send(filename.encode())\n",
    "with open(filename,\"rb\") as f:\n",
    "    data = f.read(1024)\n",
    "    while data:\n",
    "        client.send(data)\n",
    "        data = f.read(1024)\n",
    "        \n",
    "print(f\"File {filename} sent successfully\")        \n",
    "client.close()"
   ]
  },
  {
   "cell_type": "code",
   "execution_count": 3,
   "metadata": {},
   "outputs": [
    {
     "name": "stdout",
     "output_type": "stream",
     "text": [
      "Writing tcp_file_server.py\n"
     ]
    }
   ],
   "source": [
    "%%writefile tcp_file_server.py\n",
    "import socket\n",
    "host = socket.gethostname()\n",
    "port = 6000\n",
    "\n",
    "server = socket.socket(type=socket.SOCK_STREAM)\n",
    "server.bind((host,port))\n",
    "server.listen()\n",
    "\n",
    "conn,addr = server.accept()\n",
    "print(\"Connection from\",addr)\n",
    "\n",
    "filename = conn.recv(1024).decode()\n",
    "\n",
    "with open(filename,'wb') as f:\n",
    "    while True:\n",
    "        data = conn.recv(1024)\n",
    "        if not data:\n",
    "            break\n",
    "        f.write(data)            \n",
    "print(f\"File {filename} recieved successfully\")\n",
    "conn.close()"
   ]
  },
  {
   "cell_type": "code",
   "execution_count": null,
   "metadata": {},
   "outputs": [],
   "source": []
  }
 ],
 "metadata": {
  "kernelspec": {
   "display_name": "Python 3",
   "language": "python",
   "name": "python3"
  },
  "language_info": {
   "codemirror_mode": {
    "name": "ipython",
    "version": 3
   },
   "file_extension": ".py",
   "mimetype": "text/x-python",
   "name": "python",
   "nbconvert_exporter": "python",
   "pygments_lexer": "ipython3",
   "version": "3.8.5"
  }
 },
 "nbformat": 4,
 "nbformat_minor": 5
}
