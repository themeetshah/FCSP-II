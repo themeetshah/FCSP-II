{
 "cells": [
  {
   "cell_type": "code",
   "execution_count": 4,
   "metadata": {},
   "outputs": [
    {
     "name": "stdout",
     "output_type": "stream",
     "text": [
      "Overwriting http_server.py\n"
     ]
    }
   ],
   "source": [
    "%%writefile http_server.py\n",
    "import socket\n",
    "\n",
    "def createServer():\n",
    "    c = socket.socket()\n",
    "    c.bind(('localhost',3000))\n",
    "    c.listen()\n",
    "    while True:\n",
    "        conn,addr = c.accept()\n",
    "        r = conn.recv(5000).decode()\n",
    "        data = \"HTTP/1.1.200 OK\\n\"\n",
    "        data+= \"Content-Type: text/html;charset-utf-8\\n\\n\"\n",
    "        data+= \"<html><body>Helloo</body></html>\\n\\n\"\n",
    "        conn.send(data.encode())\n",
    "    c.close()\n",
    "\n",
    "print(\"http://localhost:3000\")\n",
    "createServer()"
   ]
  },
  {
   "cell_type": "code",
   "execution_count": 5,
   "metadata": {},
   "outputs": [
    {
     "name": "stdout",
     "output_type": "stream",
     "text": [
      "Overwriting http_client.py\n"
     ]
    }
   ],
   "source": [
    "%%writefile http_client.py\n",
    "import socket\n",
    "\n",
    "def createclient():\n",
    "    client = socket.socket()\n",
    "    client.connect(('localhost',3000))\n",
    "    \n",
    "    r = \"GET http://localhost:3000 HTTP/1.1/r\\n\\r/n\"\n",
    "    client.send(r.encode())\n",
    "    \n",
    "    response = client.recv(1024).decode()\n",
    "    print('recieved response')\n",
    "    print(response)\n",
    "    \n",
    "    client.close()\n",
    "createclient()"
   ]
  },
  {
   "cell_type": "code",
   "execution_count": null,
   "metadata": {},
   "outputs": [],
   "source": []
  }
 ],
 "metadata": {
  "kernelspec": {
   "display_name": "Python 3",
   "language": "python",
   "name": "python3"
  },
  "language_info": {
   "codemirror_mode": {
    "name": "ipython",
    "version": 3
   },
   "file_extension": ".py",
   "mimetype": "text/x-python",
   "name": "python",
   "nbconvert_exporter": "python",
   "pygments_lexer": "ipython3",
   "version": "3.8.5"
  }
 },
 "nbformat": 4,
 "nbformat_minor": 4
}
