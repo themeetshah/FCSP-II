{
 "cells": [
  {
   "cell_type": "code",
   "execution_count": 8,
   "metadata": {},
   "outputs": [],
   "source": [
    "import re"
   ]
  },
  {
   "cell_type": "markdown",
   "metadata": {},
   "source": [
    "## Meta Characters:"
   ]
  },
  {
   "cell_type": "code",
   "execution_count": 5,
   "metadata": {},
   "outputs": [],
   "source": [
    "# [ ] : [A-Za-z]  -- only alphabets\n",
    "# [ ] : [^A-Za-z]  -- anything other than alphabets\n",
    "\n",
    "# \\ : escape character \n",
    "# \\ : \\. -- to check '.'\n",
    "# \\ : \\+ -- to check '+'\n",
    "\n",
    "# . : Any char except new line (\\n)\n",
    "\n",
    "# ^ : string starts with\n",
    "# $ : string ends with\n",
    "\n",
    "# * : zero or more occ.\n",
    "# + : one or more occ.\n",
    "# ? : zero or one occ.\n",
    "# | : either or\n",
    "# {} : specified no. of occ."
   ]
  },
  {
   "cell_type": "markdown",
   "metadata": {},
   "source": [
    "## Special Characters:"
   ]
  },
  {
   "cell_type": "code",
   "execution_count": 6,
   "metadata": {},
   "outputs": [],
   "source": [
    "# \\A : checks starting with given string\n",
    "# \\Z : checks ending with given string\n",
    "# \\b : starting ma lakhyu hoy toh check krse k ena thi start thaay che k nai, \n",
    "#      ending ma lakhyu hoy toh check krse k ena thi end thaay che k nai\n",
    "# \\B : check karse che k nai but not at start and end\n",
    "# \\d : checks digits\n",
    "# \\D : no digits\n",
    "# \\s : checks for white space : blank space, new line\n",
    "# \\S : no white spaces\n",
    "# \\w : checks alphabets, numbers and underscores\n",
    "# \\W : no alphabets, no numbers and no underscores"
   ]
  },
  {
   "cell_type": "code",
   "execution_count": 13,
   "metadata": {},
   "outputs": [
    {
     "name": "stdout",
     "output_type": "stream",
     "text": [
      "Using ^: ['Hello']\n",
      "Using \\b: ['Hello', 'Hello']\n"
     ]
    }
   ],
   "source": [
    "s = 'Hello54 Hello36 Planet'\n",
    "x = re.findall(r'^Hello',s)\n",
    "print('Using ^:',x)\n",
    "\n",
    "y = re.findall(r'\\bHello',s)\n",
    "print('Using \\\\b:',y)"
   ]
  },
  {
   "cell_type": "markdown",
   "metadata": {},
   "source": [
    "## findall()"
   ]
  },
  {
   "cell_type": "code",
   "execution_count": 19,
   "metadata": {},
   "outputs": [
    {
     "data": {
      "text/plain": [
       "['AB', 'DE', '5F', 'GK']"
      ]
     },
     "execution_count": 19,
     "metadata": {},
     "output_type": "execute_result"
    }
   ],
   "source": [
    "s = 'ABC DE5F GK'\n",
    "re.findall(r'\\w{2}',s)"
   ]
  },
  {
   "cell_type": "code",
   "execution_count": 20,
   "metadata": {},
   "outputs": [
    {
     "data": {
      "text/plain": [
       "['AB', 'CX', 'DE', '5F', 'GK']"
      ]
     },
     "execution_count": 20,
     "metadata": {},
     "output_type": "execute_result"
    }
   ],
   "source": [
    "s = 'ABCX DE5F GK'\n",
    "re.findall(r'\\w{2}',s)"
   ]
  },
  {
   "cell_type": "markdown",
   "metadata": {},
   "source": [
    "## search()"
   ]
  },
  {
   "cell_type": "code",
   "execution_count": 29,
   "metadata": {},
   "outputs": [
    {
     "name": "stdout",
     "output_type": "stream",
     "text": [
      "<re.Match object; span=(0, 2), match='AB'>\n",
      "AB\n"
     ]
    }
   ],
   "source": [
    "s = 'ABC DE5F GK'\n",
    "x = re.search(r'\\w{2}',s)  # returns the first occurance where the condition is satisfied\n",
    "print(x)\n",
    "print(x.group())"
   ]
  },
  {
   "cell_type": "markdown",
   "metadata": {},
   "source": [
    "## split()"
   ]
  },
  {
   "cell_type": "code",
   "execution_count": 42,
   "metadata": {},
   "outputs": [
    {
     "name": "stdout",
     "output_type": "stream",
     "text": [
      "['A', 'B', 'CD']\n"
     ]
    }
   ],
   "source": [
    "s = 'A! B. CD'\n",
    "x = re.split(r'\\W+',s)\n",
    "print(x)"
   ]
  },
  {
   "cell_type": "code",
   "execution_count": 36,
   "metadata": {},
   "outputs": [
    {
     "name": "stdout",
     "output_type": "stream",
     "text": [
      "['A', 'B. CD']\n"
     ]
    }
   ],
   "source": [
    "s = 'A! B. CD'\n",
    "x = re.split(r'\\W+',s, maxsplit=1)\n",
    "print(x)"
   ]
  },
  {
   "cell_type": "code",
   "execution_count": 44,
   "metadata": {},
   "outputs": [
    {
     "name": "stdout",
     "output_type": "stream",
     "text": [
      "['.', '! ', '. ', '']\n"
     ]
    }
   ],
   "source": [
    "s = 'A! B. CD'\n",
    "x = re.split(r'\\w+',s)\n",
    "print(x)\n",
    "# ahiya A aagad split thaay che, so 2 part me divide krva mate aagad extra aave che as null\n",
    "# same at ending"
   ]
  },
  {
   "cell_type": "code",
   "execution_count": 45,
   "metadata": {},
   "outputs": [
    {
     "name": "stdout",
     "output_type": "stream",
     "text": [
      "['.', '! ', '. ', '']\n"
     ]
    }
   ],
   "source": [
    "s = '.A! B. CD'\n",
    "x = re.split(r'\\w+',s)\n",
    "print(x)"
   ]
  },
  {
   "cell_type": "markdown",
   "metadata": {},
   "source": [
    "## sub()"
   ]
  },
  {
   "cell_type": "code",
   "execution_count": 47,
   "metadata": {},
   "outputs": [
    {
     "name": "stdout",
     "output_type": "stream",
     "text": [
      "07965413210\n"
     ]
    }
   ],
   "source": [
    "s = '(079)-6541-3210'\n",
    "x = re.sub(r'\\D','',s)\n",
    "print(x)"
   ]
  },
  {
   "cell_type": "code",
   "execution_count": 83,
   "metadata": {},
   "outputs": [
    {
     "name": "stdout",
     "output_type": "stream",
     "text": [
      "['4-12-2024', '11/4/2025']\n",
      "['10:09 AM', '5:30 PM']\n"
     ]
    }
   ],
   "source": [
    "# wap using regex to fetch dates & time from a given string\n",
    "inp = 'I have a meeting on 4-12-2024 at 10:09 AM and an appointment on 11/4/2025 at 5:30 PM.'\n",
    "dates = r'\\d{1,2}[-/]\\d{1,2}[-/]\\d{4}'\n",
    "times = r'\\d{1,2}:\\d{1,2}\\s{1}[AP]M'\n",
    "print(re.findall(dates,inp))\n",
    "print(re.findall(times,inp))"
   ]
  },
  {
   "cell_type": "code",
   "execution_count": 103,
   "metadata": {},
   "outputs": [
    {
     "name": "stdout",
     "output_type": "stream",
     "text": [
      "True\n",
      "['abc_123@mail.com']\n"
     ]
    }
   ],
   "source": [
    "# wap to check email address\n",
    "email = 'abc_123@mail.com'\n",
    "mail = r'\\w+@\\w{2,}.\\w{2,}'\n",
    "verify = re.findall(mail,email)\n",
    "if verify and (verify[0])==email:\n",
    "    print('True')\n",
    "else:\n",
    "    print('False')\n",
    "print(verify)"
   ]
  },
  {
   "cell_type": "code",
   "execution_count": null,
   "metadata": {},
   "outputs": [],
   "source": []
  }
 ],
 "metadata": {
  "kernelspec": {
   "display_name": "Python 3",
   "language": "python",
   "name": "python3"
  },
  "language_info": {
   "codemirror_mode": {
    "name": "ipython",
    "version": 3
   },
   "file_extension": ".py",
   "mimetype": "text/x-python",
   "name": "python",
   "nbconvert_exporter": "python",
   "pygments_lexer": "ipython3",
   "version": "3.8.5"
  }
 },
 "nbformat": 4,
 "nbformat_minor": 4
}
