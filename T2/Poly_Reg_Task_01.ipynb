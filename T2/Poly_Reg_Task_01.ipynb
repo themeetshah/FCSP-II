{
 "cells": [
  {
   "cell_type": "code",
   "execution_count": 1,
   "metadata": {},
   "outputs": [],
   "source": [
    "# Question: https://github.com/kavit88/Linear-Regression/blob/main/T2_9%20Marks%20Example.pdf"
   ]
  },
  {
   "cell_type": "code",
   "execution_count": 2,
   "metadata": {},
   "outputs": [],
   "source": [
    "import pandas as pd\n",
    "import numpy as np\n",
    "from sklearn.model_selection import train_test_split\n",
    "from sklearn.linear_model import LinearRegression \n",
    "from sklearn.metrics import mean_absolute_error, mean_squared_error, r2_score"
   ]
  },
  {
   "cell_type": "code",
   "execution_count": 3,
   "metadata": {},
   "outputs": [
    {
     "name": "stdout",
     "output_type": "stream",
     "text": [
      "(159, 7)\n"
     ]
    },
    {
     "data": {
      "text/html": [
       "<div>\n",
       "<style scoped>\n",
       "    .dataframe tbody tr th:only-of-type {\n",
       "        vertical-align: middle;\n",
       "    }\n",
       "\n",
       "    .dataframe tbody tr th {\n",
       "        vertical-align: top;\n",
       "    }\n",
       "\n",
       "    .dataframe thead th {\n",
       "        text-align: right;\n",
       "    }\n",
       "</style>\n",
       "<table border=\"1\" class=\"dataframe\">\n",
       "  <thead>\n",
       "    <tr style=\"text-align: right;\">\n",
       "      <th></th>\n",
       "      <th>Species</th>\n",
       "      <th>Weight</th>\n",
       "      <th>Length1</th>\n",
       "      <th>Length2</th>\n",
       "      <th>Length3</th>\n",
       "      <th>Height</th>\n",
       "      <th>Width</th>\n",
       "    </tr>\n",
       "  </thead>\n",
       "  <tbody>\n",
       "    <tr>\n",
       "      <th>0</th>\n",
       "      <td>Bream</td>\n",
       "      <td>242.0</td>\n",
       "      <td>23.2</td>\n",
       "      <td>25.4</td>\n",
       "      <td>30.0</td>\n",
       "      <td>11.5200</td>\n",
       "      <td>4.0200</td>\n",
       "    </tr>\n",
       "    <tr>\n",
       "      <th>1</th>\n",
       "      <td>Bream</td>\n",
       "      <td>290.0</td>\n",
       "      <td>24.0</td>\n",
       "      <td>26.3</td>\n",
       "      <td>31.2</td>\n",
       "      <td>12.4800</td>\n",
       "      <td>4.3056</td>\n",
       "    </tr>\n",
       "    <tr>\n",
       "      <th>2</th>\n",
       "      <td>Bream</td>\n",
       "      <td>340.0</td>\n",
       "      <td>23.9</td>\n",
       "      <td>26.5</td>\n",
       "      <td>31.1</td>\n",
       "      <td>12.3778</td>\n",
       "      <td>4.6961</td>\n",
       "    </tr>\n",
       "    <tr>\n",
       "      <th>3</th>\n",
       "      <td>Bream</td>\n",
       "      <td>363.0</td>\n",
       "      <td>26.3</td>\n",
       "      <td>29.0</td>\n",
       "      <td>33.5</td>\n",
       "      <td>12.7300</td>\n",
       "      <td>4.4555</td>\n",
       "    </tr>\n",
       "    <tr>\n",
       "      <th>4</th>\n",
       "      <td>Bream</td>\n",
       "      <td>430.0</td>\n",
       "      <td>26.5</td>\n",
       "      <td>29.0</td>\n",
       "      <td>34.0</td>\n",
       "      <td>12.4440</td>\n",
       "      <td>5.1340</td>\n",
       "    </tr>\n",
       "  </tbody>\n",
       "</table>\n",
       "</div>"
      ],
      "text/plain": [
       "  Species  Weight  Length1  Length2  Length3   Height   Width\n",
       "0   Bream   242.0     23.2     25.4     30.0  11.5200  4.0200\n",
       "1   Bream   290.0     24.0     26.3     31.2  12.4800  4.3056\n",
       "2   Bream   340.0     23.9     26.5     31.1  12.3778  4.6961\n",
       "3   Bream   363.0     26.3     29.0     33.5  12.7300  4.4555\n",
       "4   Bream   430.0     26.5     29.0     34.0  12.4440  5.1340"
      ]
     },
     "execution_count": 3,
     "metadata": {},
     "output_type": "execute_result"
    }
   ],
   "source": [
    "df = pd.read_csv('https://raw.githubusercontent.com/kavit88/Linear-Regression/main/Fish.csv')\n",
    "print(df.shape)\n",
    "df.head()"
   ]
  },
  {
   "cell_type": "code",
   "execution_count": 4,
   "metadata": {},
   "outputs": [],
   "source": [
    "# Q1"
   ]
  },
  {
   "cell_type": "code",
   "execution_count": 5,
   "metadata": {
    "scrolled": true
   },
   "outputs": [
    {
     "data": {
      "text/html": [
       "<div>\n",
       "<style scoped>\n",
       "    .dataframe tbody tr th:only-of-type {\n",
       "        vertical-align: middle;\n",
       "    }\n",
       "\n",
       "    .dataframe tbody tr th {\n",
       "        vertical-align: top;\n",
       "    }\n",
       "\n",
       "    .dataframe thead th {\n",
       "        text-align: right;\n",
       "    }\n",
       "</style>\n",
       "<table border=\"1\" class=\"dataframe\">\n",
       "  <thead>\n",
       "    <tr style=\"text-align: right;\">\n",
       "      <th></th>\n",
       "      <th>Weight</th>\n",
       "      <th>Length1</th>\n",
       "      <th>Length2</th>\n",
       "      <th>Length3</th>\n",
       "      <th>Height</th>\n",
       "      <th>Width</th>\n",
       "    </tr>\n",
       "  </thead>\n",
       "  <tbody>\n",
       "    <tr>\n",
       "      <th>Weight</th>\n",
       "      <td>1.000000</td>\n",
       "      <td>0.915712</td>\n",
       "      <td>0.918618</td>\n",
       "      <td>0.923044</td>\n",
       "      <td>0.724345</td>\n",
       "      <td>0.886507</td>\n",
       "    </tr>\n",
       "    <tr>\n",
       "      <th>Length1</th>\n",
       "      <td>0.915712</td>\n",
       "      <td>1.000000</td>\n",
       "      <td>0.999517</td>\n",
       "      <td>0.992031</td>\n",
       "      <td>0.625378</td>\n",
       "      <td>0.867050</td>\n",
       "    </tr>\n",
       "    <tr>\n",
       "      <th>Length2</th>\n",
       "      <td>0.918618</td>\n",
       "      <td>0.999517</td>\n",
       "      <td>1.000000</td>\n",
       "      <td>0.994103</td>\n",
       "      <td>0.640441</td>\n",
       "      <td>0.873547</td>\n",
       "    </tr>\n",
       "    <tr>\n",
       "      <th>Length3</th>\n",
       "      <td>0.923044</td>\n",
       "      <td>0.992031</td>\n",
       "      <td>0.994103</td>\n",
       "      <td>1.000000</td>\n",
       "      <td>0.703409</td>\n",
       "      <td>0.878520</td>\n",
       "    </tr>\n",
       "    <tr>\n",
       "      <th>Height</th>\n",
       "      <td>0.724345</td>\n",
       "      <td>0.625378</td>\n",
       "      <td>0.640441</td>\n",
       "      <td>0.703409</td>\n",
       "      <td>1.000000</td>\n",
       "      <td>0.792881</td>\n",
       "    </tr>\n",
       "    <tr>\n",
       "      <th>Width</th>\n",
       "      <td>0.886507</td>\n",
       "      <td>0.867050</td>\n",
       "      <td>0.873547</td>\n",
       "      <td>0.878520</td>\n",
       "      <td>0.792881</td>\n",
       "      <td>1.000000</td>\n",
       "    </tr>\n",
       "  </tbody>\n",
       "</table>\n",
       "</div>"
      ],
      "text/plain": [
       "           Weight   Length1   Length2   Length3    Height     Width\n",
       "Weight   1.000000  0.915712  0.918618  0.923044  0.724345  0.886507\n",
       "Length1  0.915712  1.000000  0.999517  0.992031  0.625378  0.867050\n",
       "Length2  0.918618  0.999517  1.000000  0.994103  0.640441  0.873547\n",
       "Length3  0.923044  0.992031  0.994103  1.000000  0.703409  0.878520\n",
       "Height   0.724345  0.625378  0.640441  0.703409  1.000000  0.792881\n",
       "Width    0.886507  0.867050  0.873547  0.878520  0.792881  1.000000"
      ]
     },
     "execution_count": 5,
     "metadata": {},
     "output_type": "execute_result"
    }
   ],
   "source": [
    "# 0. Feature Selection:\n",
    "df.corr()"
   ]
  },
  {
   "cell_type": "code",
   "execution_count": 6,
   "metadata": {},
   "outputs": [],
   "source": [
    "x1 = df[['Length3']]\n",
    "y1 = df['Weight']\n",
    "\n",
    "lr1 = LinearRegression()\n",
    "\n",
    "# 1. Data Splitting: \n",
    "x_train, x_test, y_train, y_test = train_test_split(x1,y1,test_size=0.2, random_state=10)\n",
    "\n",
    "# 3. Model Fitting: \n",
    "lr1.fit(x_train,y_train)\n",
    "\n",
    "# 4. Prediction: \n",
    "y_pred = lr1.predict(x_test)"
   ]
  },
  {
   "cell_type": "code",
   "execution_count": 7,
   "metadata": {},
   "outputs": [
    {
     "name": "stdout",
     "output_type": "stream",
     "text": [
      "Sq Err: 14900.228845575912\n",
      "R2 Score: 0.6114394857577926\n"
     ]
    }
   ],
   "source": [
    "# 6. Mean Squared Error (MSE):\n",
    "print('Sq Err:',mean_squared_error(y_test, y_pred))\n",
    "# 5. R2 Score: \n",
    "print('R2 Score:',r2_score(y_test, y_pred))"
   ]
  },
  {
   "cell_type": "code",
   "execution_count": 8,
   "metadata": {},
   "outputs": [],
   "source": [
    "# Q2"
   ]
  },
  {
   "cell_type": "code",
   "execution_count": 9,
   "metadata": {},
   "outputs": [
    {
     "data": {
      "text/html": [
       "<div>\n",
       "<style scoped>\n",
       "    .dataframe tbody tr th:only-of-type {\n",
       "        vertical-align: middle;\n",
       "    }\n",
       "\n",
       "    .dataframe tbody tr th {\n",
       "        vertical-align: top;\n",
       "    }\n",
       "\n",
       "    .dataframe thead th {\n",
       "        text-align: right;\n",
       "    }\n",
       "</style>\n",
       "<table border=\"1\" class=\"dataframe\">\n",
       "  <thead>\n",
       "    <tr style=\"text-align: right;\">\n",
       "      <th></th>\n",
       "      <th>Weight</th>\n",
       "      <th>Length1</th>\n",
       "      <th>Length2</th>\n",
       "      <th>Length3</th>\n",
       "      <th>Height</th>\n",
       "      <th>Width</th>\n",
       "      <th>Species_Parkki</th>\n",
       "      <th>Species_Perch</th>\n",
       "      <th>Species_Pike</th>\n",
       "      <th>Species_Roach</th>\n",
       "      <th>Species_Smelt</th>\n",
       "      <th>Species_Whitefish</th>\n",
       "    </tr>\n",
       "  </thead>\n",
       "  <tbody>\n",
       "    <tr>\n",
       "      <th>0</th>\n",
       "      <td>242.0</td>\n",
       "      <td>23.2</td>\n",
       "      <td>25.4</td>\n",
       "      <td>30.0</td>\n",
       "      <td>11.5200</td>\n",
       "      <td>4.0200</td>\n",
       "      <td>0</td>\n",
       "      <td>0</td>\n",
       "      <td>0</td>\n",
       "      <td>0</td>\n",
       "      <td>0</td>\n",
       "      <td>0</td>\n",
       "    </tr>\n",
       "    <tr>\n",
       "      <th>1</th>\n",
       "      <td>290.0</td>\n",
       "      <td>24.0</td>\n",
       "      <td>26.3</td>\n",
       "      <td>31.2</td>\n",
       "      <td>12.4800</td>\n",
       "      <td>4.3056</td>\n",
       "      <td>0</td>\n",
       "      <td>0</td>\n",
       "      <td>0</td>\n",
       "      <td>0</td>\n",
       "      <td>0</td>\n",
       "      <td>0</td>\n",
       "    </tr>\n",
       "    <tr>\n",
       "      <th>2</th>\n",
       "      <td>340.0</td>\n",
       "      <td>23.9</td>\n",
       "      <td>26.5</td>\n",
       "      <td>31.1</td>\n",
       "      <td>12.3778</td>\n",
       "      <td>4.6961</td>\n",
       "      <td>0</td>\n",
       "      <td>0</td>\n",
       "      <td>0</td>\n",
       "      <td>0</td>\n",
       "      <td>0</td>\n",
       "      <td>0</td>\n",
       "    </tr>\n",
       "    <tr>\n",
       "      <th>3</th>\n",
       "      <td>363.0</td>\n",
       "      <td>26.3</td>\n",
       "      <td>29.0</td>\n",
       "      <td>33.5</td>\n",
       "      <td>12.7300</td>\n",
       "      <td>4.4555</td>\n",
       "      <td>0</td>\n",
       "      <td>0</td>\n",
       "      <td>0</td>\n",
       "      <td>0</td>\n",
       "      <td>0</td>\n",
       "      <td>0</td>\n",
       "    </tr>\n",
       "    <tr>\n",
       "      <th>4</th>\n",
       "      <td>430.0</td>\n",
       "      <td>26.5</td>\n",
       "      <td>29.0</td>\n",
       "      <td>34.0</td>\n",
       "      <td>12.4440</td>\n",
       "      <td>5.1340</td>\n",
       "      <td>0</td>\n",
       "      <td>0</td>\n",
       "      <td>0</td>\n",
       "      <td>0</td>\n",
       "      <td>0</td>\n",
       "      <td>0</td>\n",
       "    </tr>\n",
       "  </tbody>\n",
       "</table>\n",
       "</div>"
      ],
      "text/plain": [
       "   Weight  Length1  Length2  Length3   Height   Width  Species_Parkki  \\\n",
       "0   242.0     23.2     25.4     30.0  11.5200  4.0200               0   \n",
       "1   290.0     24.0     26.3     31.2  12.4800  4.3056               0   \n",
       "2   340.0     23.9     26.5     31.1  12.3778  4.6961               0   \n",
       "3   363.0     26.3     29.0     33.5  12.7300  4.4555               0   \n",
       "4   430.0     26.5     29.0     34.0  12.4440  5.1340               0   \n",
       "\n",
       "   Species_Perch  Species_Pike  Species_Roach  Species_Smelt  \\\n",
       "0              0             0              0              0   \n",
       "1              0             0              0              0   \n",
       "2              0             0              0              0   \n",
       "3              0             0              0              0   \n",
       "4              0             0              0              0   \n",
       "\n",
       "   Species_Whitefish  \n",
       "0                  0  \n",
       "1                  0  \n",
       "2                  0  \n",
       "3                  0  \n",
       "4                  0  "
      ]
     },
     "execution_count": 9,
     "metadata": {},
     "output_type": "execute_result"
    }
   ],
   "source": [
    "df2 = pd.get_dummies(df, drop_first=True)\n",
    "df2.head()"
   ]
  },
  {
   "cell_type": "code",
   "execution_count": 10,
   "metadata": {},
   "outputs": [],
   "source": [
    "# 0. Feature Selection:\n",
    "x2 = df2.drop('Weight', axis=1)\n",
    "y2 = df2['Weight']\n",
    "\n",
    "lr2 = LinearRegression()\n",
    "\n",
    "# 1. Data Splitting: \n",
    "x_train, x_test, y_train, y_test = train_test_split(x2,y2,test_size=0.2, random_state=10)\n",
    "\n",
    "# 3. Model Fitting: \n",
    "lr2.fit(x_train,y_train)\n",
    "\n",
    "# 4. Prediction: \n",
    "y_pred = lr2.predict(x_test)"
   ]
  },
  {
   "cell_type": "code",
   "execution_count": 11,
   "metadata": {},
   "outputs": [
    {
     "name": "stdout",
     "output_type": "stream",
     "text": [
      "Sq Err: 6742.969102822786\n",
      "R2 Score: 0.8241603153034748\n"
     ]
    }
   ],
   "source": [
    "# 6. Mean Squared Error (MSE):\n",
    "print('Sq Err:',mean_squared_error(y_test, y_pred))\n",
    "# 5. R2 Score: \n",
    "print('R2 Score:',r2_score(y_test, y_pred))"
   ]
  },
  {
   "cell_type": "code",
   "execution_count": 12,
   "metadata": {},
   "outputs": [],
   "source": [
    "# Q3"
   ]
  },
  {
   "cell_type": "code",
   "execution_count": 13,
   "metadata": {},
   "outputs": [],
   "source": [
    "from sklearn.preprocessing import PolynomialFeatures"
   ]
  },
  {
   "cell_type": "code",
   "execution_count": 14,
   "metadata": {},
   "outputs": [],
   "source": [
    "lr3 = LinearRegression()\n",
    "\n",
    "# 1. Data Splitting: \n",
    "x_train, x_test, y_train, y_test = train_test_split(x2,y2,test_size=0.2, random_state=5)\n",
    "\n",
    "poly = PolynomialFeatures(degree=2)\n",
    "\n",
    "x_poly = poly.fit_transform(x_train)\n",
    "x_test = poly.fit_transform(x_test)\n",
    "\n",
    "# 3. Model Fitting: \n",
    "lr3.fit(x_poly,y_train)\n",
    "\n",
    "# 4. Prediction: \n",
    "y_pred = lr3.predict(x_test)"
   ]
  },
  {
   "cell_type": "code",
   "execution_count": 15,
   "metadata": {},
   "outputs": [
    {
     "name": "stdout",
     "output_type": "stream",
     "text": [
      "Sq Err: 1886.3891147001646\n",
      "R2 Score: 0.9861869158288826\n"
     ]
    }
   ],
   "source": [
    "# 6. Mean Squared Error (MSE):\n",
    "print('Sq Err:',mean_squared_error(y_test, y_pred))\n",
    "# 5. R2 Score: \n",
    "print('R2 Score:',r2_score(y_test, y_pred))"
   ]
  }
 ],
 "metadata": {
  "kernelspec": {
   "display_name": "Python 3",
   "language": "python",
   "name": "python3"
  },
  "language_info": {
   "codemirror_mode": {
    "name": "ipython",
    "version": 3
   },
   "file_extension": ".py",
   "mimetype": "text/x-python",
   "name": "python",
   "nbconvert_exporter": "python",
   "pygments_lexer": "ipython3",
   "version": "3.8.5"
  }
 },
 "nbformat": 4,
 "nbformat_minor": 4
}
