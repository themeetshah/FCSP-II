{
 "cells": [
  {
   "cell_type": "code",
   "execution_count": 1,
   "metadata": {},
   "outputs": [],
   "source": [
    "import pandas as pd\n",
    "import numpy as np\n",
    "from sklearn.model_selection import train_test_split\n",
    "from sklearn.linear_model import LinearRegression \n",
    "from sklearn.metrics import mean_absolute_error, mean_squared_error, r2_score"
   ]
  },
  {
   "cell_type": "code",
   "execution_count": 2,
   "metadata": {
    "scrolled": true
   },
   "outputs": [],
   "source": [
    "df = pd.read_csv('https://raw.githubusercontent.com/kavit88/Linear-Regression/main/Marksheet.csv')"
   ]
  },
  {
   "cell_type": "code",
   "execution_count": 3,
   "metadata": {},
   "outputs": [
    {
     "data": {
      "text/html": [
       "<div>\n",
       "<style scoped>\n",
       "    .dataframe tbody tr th:only-of-type {\n",
       "        vertical-align: middle;\n",
       "    }\n",
       "\n",
       "    .dataframe tbody tr th {\n",
       "        vertical-align: top;\n",
       "    }\n",
       "\n",
       "    .dataframe thead th {\n",
       "        text-align: right;\n",
       "    }\n",
       "</style>\n",
       "<table border=\"1\" class=\"dataframe\">\n",
       "  <thead>\n",
       "    <tr style=\"text-align: right;\">\n",
       "      <th></th>\n",
       "      <th>sr no</th>\n",
       "      <th>Branch</th>\n",
       "      <th>Enrolment No</th>\n",
       "      <th>Name</th>\n",
       "      <th>Roll No</th>\n",
       "      <th>Div</th>\n",
       "      <th>Mentor Name</th>\n",
       "      <th>TEST-1 MARKS</th>\n",
       "      <th>TEST-2 MARKS</th>\n",
       "      <th>TEST-3 MARKS</th>\n",
       "      <th>TEST-4 MARKS</th>\n",
       "      <th>Total Marks</th>\n",
       "    </tr>\n",
       "  </thead>\n",
       "  <tbody>\n",
       "    <tr>\n",
       "      <th>0</th>\n",
       "      <td>1</td>\n",
       "      <td>CE</td>\n",
       "      <td>2.200220e+13</td>\n",
       "      <td>KATHIRIYA VRAJKUMAR ASHVINBHAI</td>\n",
       "      <td>110</td>\n",
       "      <td>A4</td>\n",
       "      <td>UMM</td>\n",
       "      <td>22.5</td>\n",
       "      <td>18.0</td>\n",
       "      <td>22.5</td>\n",
       "      <td>14.5</td>\n",
       "      <td>77.5</td>\n",
       "    </tr>\n",
       "    <tr>\n",
       "      <th>1</th>\n",
       "      <td>2</td>\n",
       "      <td>CE</td>\n",
       "      <td>2.300220e+13</td>\n",
       "      <td>AGRAVAT SAHIL RAJARAMBHAI</td>\n",
       "      <td>101</td>\n",
       "      <td>A3</td>\n",
       "      <td>SAS</td>\n",
       "      <td>21.5</td>\n",
       "      <td>20.0</td>\n",
       "      <td>19.0</td>\n",
       "      <td>14.0</td>\n",
       "      <td>74.5</td>\n",
       "    </tr>\n",
       "    <tr>\n",
       "      <th>2</th>\n",
       "      <td>3</td>\n",
       "      <td>CE</td>\n",
       "      <td>2.300220e+13</td>\n",
       "      <td>BALAR RAGHUBHAI SURESHBHAI</td>\n",
       "      <td>162</td>\n",
       "      <td>A5</td>\n",
       "      <td>KMS</td>\n",
       "      <td>17.0</td>\n",
       "      <td>20.5</td>\n",
       "      <td>19.0</td>\n",
       "      <td>19.0</td>\n",
       "      <td>75.5</td>\n",
       "    </tr>\n",
       "    <tr>\n",
       "      <th>3</th>\n",
       "      <td>4</td>\n",
       "      <td>CE</td>\n",
       "      <td>2.300220e+13</td>\n",
       "      <td>BALESANA HASSANBHAI YUNUSBHAI</td>\n",
       "      <td>122</td>\n",
       "      <td>A4</td>\n",
       "      <td>UMM</td>\n",
       "      <td>21.0</td>\n",
       "      <td>17.5</td>\n",
       "      <td>9.0</td>\n",
       "      <td>22.0</td>\n",
       "      <td>69.5</td>\n",
       "    </tr>\n",
       "    <tr>\n",
       "      <th>4</th>\n",
       "      <td>5</td>\n",
       "      <td>CE</td>\n",
       "      <td>2.300220e+13</td>\n",
       "      <td>BAMBHROLIYA HIT NARESHBHAI</td>\n",
       "      <td>87</td>\n",
       "      <td>A3</td>\n",
       "      <td>UMS</td>\n",
       "      <td>24.0</td>\n",
       "      <td>22.0</td>\n",
       "      <td>21.5</td>\n",
       "      <td>24.0</td>\n",
       "      <td>91.5</td>\n",
       "    </tr>\n",
       "  </tbody>\n",
       "</table>\n",
       "</div>"
      ],
      "text/plain": [
       "   sr no Branch  Enrolment No                            Name  Roll No Div  \\\n",
       "0      1     CE  2.200220e+13  KATHIRIYA VRAJKUMAR ASHVINBHAI      110  A4   \n",
       "1      2     CE  2.300220e+13       AGRAVAT SAHIL RAJARAMBHAI      101  A3   \n",
       "2      3     CE  2.300220e+13      BALAR RAGHUBHAI SURESHBHAI      162  A5   \n",
       "3      4     CE  2.300220e+13   BALESANA HASSANBHAI YUNUSBHAI      122  A4   \n",
       "4      5     CE  2.300220e+13      BAMBHROLIYA HIT NARESHBHAI       87  A3   \n",
       "\n",
       "  Mentor Name  TEST-1 MARKS  TEST-2 MARKS  TEST-3 MARKS  TEST-4 MARKS  \\\n",
       "0         UMM          22.5          18.0          22.5          14.5   \n",
       "1         SAS          21.5          20.0          19.0          14.0   \n",
       "2         KMS          17.0          20.5          19.0          19.0   \n",
       "3         UMM          21.0          17.5           9.0          22.0   \n",
       "4         UMS          24.0          22.0          21.5          24.0   \n",
       "\n",
       "   Total Marks  \n",
       "0         77.5  \n",
       "1         74.5  \n",
       "2         75.5  \n",
       "3         69.5  \n",
       "4         91.5  "
      ]
     },
     "execution_count": 3,
     "metadata": {},
     "output_type": "execute_result"
    }
   ],
   "source": [
    "# data cleaning\n",
    "df = df[(df['TEST-1 MARKS']!='AB') & (df['TEST-2 MARKS']!='AB') & (df['TEST-3 MARKS']!='AB') & (df['TEST-4 MARKS']!='AB')]\n",
    "\n",
    "df['TEST-1 MARKS'] = df['TEST-1 MARKS'].astype('float64')\n",
    "df['TEST-2 MARKS'] = df['TEST-2 MARKS'].astype('float64')\n",
    "df['TEST-3 MARKS'] = df['TEST-3 MARKS'].astype('float64')\n",
    "df['TEST-4 MARKS'] = df['TEST-4 MARKS'].astype('float64')\n",
    "\n",
    "df['Total Marks'] = df['TEST-1 MARKS'] + df['TEST-2 MARKS'] + df['TEST-3 MARKS'] + df['TEST-4 MARKS']\n",
    "df.head()"
   ]
  },
  {
   "cell_type": "code",
   "execution_count": 4,
   "metadata": {},
   "outputs": [
    {
     "data": {
      "text/plain": [
       "{'A4': 74.38571428571429,\n",
       " 'A3': 79.45714285714286,\n",
       " 'A5': 70.55714285714286,\n",
       " 'A2': 83.63888888888889,\n",
       " 'A1': 92.84722222222223,\n",
       " 'A6': 59.51428571428571,\n",
       " 'A7': 49.86363636363637,\n",
       " 'A8': 78.41071428571429,\n",
       " 'A9': 57.84615384615385}"
      ]
     },
     "execution_count": 4,
     "metadata": {},
     "output_type": "execute_result"
    }
   ],
   "source": [
    "# div wise avg of total marks\n",
    "divs = df['Div'].unique()\n",
    "avg_div = {}\n",
    "for div in divs:\n",
    "    div_df = df[df['Div']==div]['Total Marks']\n",
    "    avg_div[div] = div_df.sum() / len(div_df)\n",
    "    \n",
    "avg_div"
   ]
  },
  {
   "cell_type": "code",
   "execution_count": 5,
   "metadata": {},
   "outputs": [
    {
     "data": {
      "text/html": [
       "<div>\n",
       "<style scoped>\n",
       "    .dataframe tbody tr th:only-of-type {\n",
       "        vertical-align: middle;\n",
       "    }\n",
       "\n",
       "    .dataframe tbody tr th {\n",
       "        vertical-align: top;\n",
       "    }\n",
       "\n",
       "    .dataframe thead th {\n",
       "        text-align: right;\n",
       "    }\n",
       "</style>\n",
       "<table border=\"1\" class=\"dataframe\">\n",
       "  <thead>\n",
       "    <tr style=\"text-align: right;\">\n",
       "      <th></th>\n",
       "      <th>sr no</th>\n",
       "      <th>Branch</th>\n",
       "      <th>Enrolment No</th>\n",
       "      <th>Name</th>\n",
       "      <th>Roll No</th>\n",
       "      <th>Div</th>\n",
       "      <th>Mentor Name</th>\n",
       "      <th>TEST-1 MARKS</th>\n",
       "      <th>TEST-2 MARKS</th>\n",
       "      <th>TEST-3 MARKS</th>\n",
       "      <th>TEST-4 MARKS</th>\n",
       "      <th>Total Marks</th>\n",
       "      <th>Grade</th>\n",
       "    </tr>\n",
       "  </thead>\n",
       "  <tbody>\n",
       "    <tr>\n",
       "      <th>0</th>\n",
       "      <td>1</td>\n",
       "      <td>CE</td>\n",
       "      <td>2.200220e+13</td>\n",
       "      <td>KATHIRIYA VRAJKUMAR ASHVINBHAI</td>\n",
       "      <td>110</td>\n",
       "      <td>A4</td>\n",
       "      <td>UMM</td>\n",
       "      <td>22.5</td>\n",
       "      <td>18.0</td>\n",
       "      <td>22.5</td>\n",
       "      <td>14.5</td>\n",
       "      <td>77.5</td>\n",
       "      <td>B</td>\n",
       "    </tr>\n",
       "    <tr>\n",
       "      <th>1</th>\n",
       "      <td>2</td>\n",
       "      <td>CE</td>\n",
       "      <td>2.300220e+13</td>\n",
       "      <td>AGRAVAT SAHIL RAJARAMBHAI</td>\n",
       "      <td>101</td>\n",
       "      <td>A3</td>\n",
       "      <td>SAS</td>\n",
       "      <td>21.5</td>\n",
       "      <td>20.0</td>\n",
       "      <td>19.0</td>\n",
       "      <td>14.0</td>\n",
       "      <td>74.5</td>\n",
       "      <td>C</td>\n",
       "    </tr>\n",
       "    <tr>\n",
       "      <th>2</th>\n",
       "      <td>3</td>\n",
       "      <td>CE</td>\n",
       "      <td>2.300220e+13</td>\n",
       "      <td>BALAR RAGHUBHAI SURESHBHAI</td>\n",
       "      <td>162</td>\n",
       "      <td>A5</td>\n",
       "      <td>KMS</td>\n",
       "      <td>17.0</td>\n",
       "      <td>20.5</td>\n",
       "      <td>19.0</td>\n",
       "      <td>19.0</td>\n",
       "      <td>75.5</td>\n",
       "      <td>B</td>\n",
       "    </tr>\n",
       "    <tr>\n",
       "      <th>3</th>\n",
       "      <td>4</td>\n",
       "      <td>CE</td>\n",
       "      <td>2.300220e+13</td>\n",
       "      <td>BALESANA HASSANBHAI YUNUSBHAI</td>\n",
       "      <td>122</td>\n",
       "      <td>A4</td>\n",
       "      <td>UMM</td>\n",
       "      <td>21.0</td>\n",
       "      <td>17.5</td>\n",
       "      <td>9.0</td>\n",
       "      <td>22.0</td>\n",
       "      <td>69.5</td>\n",
       "      <td>C</td>\n",
       "    </tr>\n",
       "    <tr>\n",
       "      <th>4</th>\n",
       "      <td>5</td>\n",
       "      <td>CE</td>\n",
       "      <td>2.300220e+13</td>\n",
       "      <td>BAMBHROLIYA HIT NARESHBHAI</td>\n",
       "      <td>87</td>\n",
       "      <td>A3</td>\n",
       "      <td>UMS</td>\n",
       "      <td>24.0</td>\n",
       "      <td>22.0</td>\n",
       "      <td>21.5</td>\n",
       "      <td>24.0</td>\n",
       "      <td>91.5</td>\n",
       "      <td>A</td>\n",
       "    </tr>\n",
       "  </tbody>\n",
       "</table>\n",
       "</div>"
      ],
      "text/plain": [
       "   sr no Branch  Enrolment No                            Name  Roll No Div  \\\n",
       "0      1     CE  2.200220e+13  KATHIRIYA VRAJKUMAR ASHVINBHAI      110  A4   \n",
       "1      2     CE  2.300220e+13       AGRAVAT SAHIL RAJARAMBHAI      101  A3   \n",
       "2      3     CE  2.300220e+13      BALAR RAGHUBHAI SURESHBHAI      162  A5   \n",
       "3      4     CE  2.300220e+13   BALESANA HASSANBHAI YUNUSBHAI      122  A4   \n",
       "4      5     CE  2.300220e+13      BAMBHROLIYA HIT NARESHBHAI       87  A3   \n",
       "\n",
       "  Mentor Name  TEST-1 MARKS  TEST-2 MARKS  TEST-3 MARKS  TEST-4 MARKS  \\\n",
       "0         UMM          22.5          18.0          22.5          14.5   \n",
       "1         SAS          21.5          20.0          19.0          14.0   \n",
       "2         KMS          17.0          20.5          19.0          19.0   \n",
       "3         UMM          21.0          17.5           9.0          22.0   \n",
       "4         UMS          24.0          22.0          21.5          24.0   \n",
       "\n",
       "   Total Marks Grade  \n",
       "0         77.5     B  \n",
       "1         74.5     C  \n",
       "2         75.5     B  \n",
       "3         69.5     C  \n",
       "4         91.5     A  "
      ]
     },
     "execution_count": 5,
     "metadata": {},
     "output_type": "execute_result"
    }
   ],
   "source": [
    "# grade assigning\n",
    "df['Grade'] = np.where(df['Total Marks']>=85,'A',\n",
    "                      np.where(df['Total Marks']>=75,'B',\n",
    "                               np.where(df['Total Marks']>=65,'C',\n",
    "                                        np.where(df['Total Marks']>=50,'D',\n",
    "                                                 np.where(df['Total Marks']>=35,'E','F')\n",
    "                                                )\n",
    "                                       )\n",
    "                              )\n",
    "                      )\n",
    "                      \n",
    "df.head()"
   ]
  },
  {
   "cell_type": "code",
   "execution_count": 6,
   "metadata": {},
   "outputs": [
    {
     "data": {
      "text/plain": [
       "LinearRegression()"
      ]
     },
     "execution_count": 6,
     "metadata": {},
     "output_type": "execute_result"
    }
   ],
   "source": [
    "# reg task\n",
    "x = df[['TEST-1 MARKS']]\n",
    "y = df['Total Marks']\n",
    "\n",
    "x_train, x_test, y_train, y_test = train_test_split(x,y, test_size=0.2, random_state=10)\n",
    "\n",
    "lr = LinearRegression()\n",
    "\n",
    "# fit model\n",
    "lr.fit(x_train,y_train)"
   ]
  },
  {
   "cell_type": "code",
   "execution_count": 9,
   "metadata": {},
   "outputs": [
    {
     "name": "stdout",
     "output_type": "stream",
     "text": [
      "3.556080683930574\n",
      "[3.39395301]\n"
     ]
    }
   ],
   "source": [
    "# intercept, slope\n",
    "print(lr.intercept_)\n",
    "print(lr.coef_)"
   ]
  },
  {
   "cell_type": "code",
   "execution_count": 10,
   "metadata": {},
   "outputs": [
    {
     "name": "stdout",
     "output_type": "stream",
     "text": [
      "[54.46537577 64.64723479 69.7381643  62.95025829 34.10165774 68.0411878\n",
      " 85.01095283 74.82909381 66.3442113  52.76839927 74.82909381 79.92002332\n",
      " 79.92002332 81.61699982 68.0411878  68.0411878  57.85932878 83.31397633\n",
      " 85.01095283 37.49561074 73.13211731 76.52607031 74.82909381 83.31397633\n",
      " 73.13211731 71.43514081 71.43514081 83.31397633 81.61699982 69.7381643\n",
      " 74.82909381 69.7381643  51.07142277 83.31397633 76.52607031 78.22304682\n",
      " 83.31397633 76.52607031 86.70792933 78.22304682 64.64723479 85.01095283\n",
      " 81.61699982 57.85932878 56.16235228 74.82909381 79.92002332 73.13211731\n",
      " 66.3442113  79.92002332 71.43514081 73.13211731 79.92002332 86.70792933\n",
      " 83.31397633 71.43514081 83.31397633 76.52607031 81.61699982 74.82909381]\n"
     ]
    }
   ],
   "source": [
    "# predict total marks\n",
    "y_pred = lr.predict(x_test)\n",
    "print(y_pred)"
   ]
  },
  {
   "cell_type": "code",
   "execution_count": 11,
   "metadata": {},
   "outputs": [
    {
     "name": "stdout",
     "output_type": "stream",
     "text": [
      "MSE: 132.74864441803135\n",
      "R2 Score: 0.5584500691644695\n"
     ]
    }
   ],
   "source": [
    "# MSE and R2 score\n",
    "print('MSE:',mean_squared_error(y_test,y_pred))\n",
    "print('R2 Score:',r2_score(y_test,y_pred))"
   ]
  },
  {
   "cell_type": "code",
   "execution_count": 12,
   "metadata": {},
   "outputs": [
    {
     "data": {
      "image/png": "[encoded data removed]",
      "text/plain": [
       "<Figure size 432x288 with 1 Axes>"
      ]
     },
     "metadata": {
      "needs_background": "light"
     },
     "output_type": "display_data"
    }
   ],
   "source": [
    "# scatter plot\n",
    "import seaborn as sns\n",
    "import matplotlib.pyplot as plt\n",
    "sns.regplot(x=x,y=y)\n",
    "plt.show()"
   ]
  },
  {
   "cell_type": "code",
   "execution_count": 30,
   "metadata": {},
   "outputs": [
    {
     "name": "stdout",
     "output_type": "stream",
     "text": [
      "Model aatlo accurate che: 69.73%\n",
      "9\n"
     ]
    },
    {
     "data": {
      "image/png": "[encoded data removed]",
      "text/plain": [
       "<Figure size 864x432 with 1 Axes>"
      ]
     },
     "metadata": {
      "needs_background": "light"
     },
     "output_type": "display_data"
    }
   ],
   "source": [
    "# extra objectives\n",
    "rs = range(0,51)\n",
    "r2_scores = []\n",
    "for i in rs:\n",
    "    x_train, x_test, y_train, y_test = train_test_split(x,y,test_size=0.2, random_state=i)\n",
    "    lr = LinearRegression()\n",
    "    lr.fit(x_train, y_train)\n",
    "    y_pred = lr.predict(x_test)\n",
    "    r2_scores.append(r2_score(y_test,y_pred))\n",
    "print(f'Model aatlo accurate che: {(max(r2_scores)*100):.2f}%')\n",
    "print(rs[np.argmax(r2_scores)])\n",
    "\n",
    "plt.figure(figsize=(12,6))\n",
    "plt.plot(list(rs),r2_scores, marker='o')\n",
    "plt.xlabel('Random State')\n",
    "plt.ylabel('R2 Score')\n",
    "plt.title('Random State vs R2 Score')\n",
    "plt.grid()\n",
    "plt.show()"
   ]
  }
 ],
 "metadata": {
  "kernelspec": {
   "display_name": "Python 3",
   "language": "python",
   "name": "python3"
  },
  "language_info": {
   "codemirror_mode": {
    "name": "ipython",
    "version": 3
   },
   "file_extension": ".py",
   "mimetype": "text/x-python",
   "name": "python",
   "nbconvert_exporter": "python",
   "pygments_lexer": "ipython3",
   "version": "3.8.5"
  }
 },
 "nbformat": 4,
 "nbformat_minor": 4
}
