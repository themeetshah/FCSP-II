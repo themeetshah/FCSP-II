{
 "cells": [
  {
   "cell_type": "code",
   "execution_count": 1,
   "metadata": {},
   "outputs": [],
   "source": [
    "import pandas as pd\n",
    "import numpy as np\n",
    "from sklearn.model_selection import train_test_split\n",
    "from sklearn.linear_model import LinearRegression \n",
    "from sklearn.metrics import mean_absolute_error, mean_squared_error, r2_score"
   ]
  },
  {
   "cell_type": "code",
   "execution_count": 2,
   "metadata": {},
   "outputs": [
    {
     "name": "stdout",
     "output_type": "stream",
     "text": [
      "(49, 2)\n"
     ]
    },
    {
     "data": {
      "text/html": [
       "<div>\n",
       "<style scoped>\n",
       "    .dataframe tbody tr th:only-of-type {\n",
       "        vertical-align: middle;\n",
       "    }\n",
       "\n",
       "    .dataframe tbody tr th {\n",
       "        vertical-align: top;\n",
       "    }\n",
       "\n",
       "    .dataframe thead th {\n",
       "        text-align: right;\n",
       "    }\n",
       "</style>\n",
       "<table border=\"1\" class=\"dataframe\">\n",
       "  <thead>\n",
       "    <tr style=\"text-align: right;\">\n",
       "      <th></th>\n",
       "      <th>Temperature (°C)</th>\n",
       "      <th>Ice Cream Sales (units)</th>\n",
       "    </tr>\n",
       "  </thead>\n",
       "  <tbody>\n",
       "    <tr>\n",
       "      <th>0</th>\n",
       "      <td>-4.662263</td>\n",
       "      <td>41.842986</td>\n",
       "    </tr>\n",
       "    <tr>\n",
       "      <th>1</th>\n",
       "      <td>-4.316559</td>\n",
       "      <td>34.661120</td>\n",
       "    </tr>\n",
       "    <tr>\n",
       "      <th>2</th>\n",
       "      <td>-4.213985</td>\n",
       "      <td>39.383001</td>\n",
       "    </tr>\n",
       "    <tr>\n",
       "      <th>3</th>\n",
       "      <td>-3.949661</td>\n",
       "      <td>37.539845</td>\n",
       "    </tr>\n",
       "    <tr>\n",
       "      <th>4</th>\n",
       "      <td>-3.578554</td>\n",
       "      <td>32.284531</td>\n",
       "    </tr>\n",
       "  </tbody>\n",
       "</table>\n",
       "</div>"
      ],
      "text/plain": [
       "   Temperature (°C)  Ice Cream Sales (units)\n",
       "0         -4.662263                41.842986\n",
       "1         -4.316559                34.661120\n",
       "2         -4.213985                39.383001\n",
       "3         -3.949661                37.539845\n",
       "4         -3.578554                32.284531"
      ]
     },
     "execution_count": 2,
     "metadata": {},
     "output_type": "execute_result"
    }
   ],
   "source": [
    "df = pd.read_csv('https://raw.githubusercontent.com/kavit88/Linear-Regression/main/Ice_cream%20selling%20data.csv')\n",
    "print(df.shape)\n",
    "df.head()"
   ]
  },
  {
   "cell_type": "code",
   "execution_count": 3,
   "metadata": {},
   "outputs": [],
   "source": [
    "x = df.drop('Ice Cream Sales (units)',axis=1)\n",
    "y = df['Ice Cream Sales (units)']\n",
    "\n",
    "lr = LinearRegression()\n",
    "\n",
    "x_train, x_test, y_train, y_test = train_test_split(x,y,test_size=0.2, random_state=42)\n",
    "lr.fit(x_train,y_train)\n",
    "y_pred = lr.predict(x_test)"
   ]
  },
  {
   "cell_type": "code",
   "execution_count": 4,
   "metadata": {},
   "outputs": [
    {
     "name": "stdout",
     "output_type": "stream",
     "text": [
      "Sq Err: 149.32629119325185\n",
      "Abs Err: 11.752026695440604\n",
      "R2 Score: -0.5751270190188225\n"
     ]
    }
   ],
   "source": [
    "print('Sq Err:',mean_squared_error(y_test, y_pred))\n",
    "print('Abs Err:',mean_absolute_error(y_test, y_pred))\n",
    "print('R2 Score:',r2_score(y_test, y_pred))"
   ]
  },
  {
   "cell_type": "code",
   "execution_count": 5,
   "metadata": {},
   "outputs": [],
   "source": [
    "import seaborn as sns\n",
    "import matplotlib.pyplot as plt"
   ]
  },
  {
   "cell_type": "code",
   "execution_count": 6,
   "metadata": {},
   "outputs": [
    {
     "data": {
      "image/png": "[encoded data removed]",
      "text/plain": [
       "<Figure size 432x288 with 1 Axes>"
      ]
     },
     "metadata": {
      "needs_background": "light"
     },
     "output_type": "display_data"
    }
   ],
   "source": [
    "sns.regplot(x='Temperature (°C)', y='Ice Cream Sales (units)', data=df)\n",
    "plt.show()"
   ]
  },
  {
   "cell_type": "code",
   "execution_count": 7,
   "metadata": {},
   "outputs": [],
   "source": [
    "from sklearn.preprocessing import PolynomialFeatures\n",
    "# make regression line like parabola"
   ]
  },
  {
   "cell_type": "code",
   "execution_count": 8,
   "metadata": {
    "scrolled": true
   },
   "outputs": [
    {
     "data": {
      "text/plain": [
       "array([[ 1.00000000e+00, -2.11186969e+00,  4.45999359e+00],\n",
       "       [ 1.00000000e+00, -3.57855372e+00,  1.28060467e+01],\n",
       "       [ 1.00000000e+00,  2.31859124e+00,  5.37586534e+00],\n",
       "       [ 1.00000000e+00, -2.67246083e+00,  7.14204687e+00],\n",
       "       [ 1.00000000e+00, -3.94966109e+00,  1.55998227e+01],\n",
       "       [ 1.00000000e+00, -3.10844012e+00,  9.66239999e+00],\n",
       "       [ 1.00000000e+00,  3.21136614e+00,  1.03128725e+01],\n",
       "       [ 1.00000000e+00,  3.27004407e+00,  1.06931882e+01],\n",
       "       [ 1.00000000e+00,  4.13086796e+00,  1.70640701e+01],\n",
       "       [ 1.00000000e+00, -1.32637898e+00,  1.75928121e+00],\n",
       "       [ 1.00000000e+00, -2.65228679e+00,  7.03462523e+00],\n",
       "       [ 1.00000000e+00, -1.17312327e+00,  1.37621820e+00],\n",
       "       [ 1.00000000e+00,  6.88780908e-01,  4.74419139e-01],\n",
       "       [ 1.00000000e+00,  2.07510060e+00,  4.30604249e+00],\n",
       "       [ 1.00000000e+00,  1.74000001e+00,  3.02760004e+00],\n",
       "       [ 1.00000000e+00, -4.66226268e+00,  2.17366933e+01],\n",
       "       [ 1.00000000e+00,  3.33593241e+00,  1.11284451e+01],\n",
       "       [ 1.00000000e+00,  1.99931037e+00,  3.99724195e+00],\n",
       "       [ 1.00000000e+00, -3.45571170e+00,  1.19419433e+01],\n",
       "       [ 1.00000000e+00,  1.35981267e+00,  1.84909051e+00],\n",
       "       [ 1.00000000e+00, -2.28826400e+00,  5.23615213e+00],\n",
       "       [ 1.00000000e+00,  2.78483646e+00,  7.75531413e+00],\n",
       "       [ 1.00000000e+00, -4.31655945e+00,  1.86326855e+01],\n",
       "       [ 1.00000000e+00, -3.38952856e-02,  1.14889038e-03],\n",
       "       [ 1.00000000e+00, -4.21398476e+00,  1.77576676e+01],\n",
       "       [ 1.00000000e+00,  2.83176021e+00,  8.01886589e+00],\n",
       "       [ 1.00000000e+00,  2.47194600e+00,  6.11051701e+00],\n",
       "       [ 1.00000000e+00,  1.49244574e-01,  2.22739429e-02],\n",
       "       [ 1.00000000e+00,  3.02087431e+00,  9.12568162e+00],\n",
       "       [ 1.00000000e+00, -2.65149803e+00,  7.03044182e+00],\n",
       "       [ 1.00000000e+00,  8.60769873e-03,  7.40924775e-05],\n",
       "       [ 1.00000000e+00, -6.73752802e-01,  4.53942838e-01],\n",
       "       [ 1.00000000e+00,  4.89903151e+00,  2.40005098e+01],\n",
       "       [ 1.00000000e+00, -3.61564977e-02,  1.30729232e-03],\n",
       "       [ 1.00000000e+00, -3.08130332e+00,  9.49443018e+00],\n",
       "       [ 1.00000000e+00,  3.31607252e+00,  1.09963370e+01],\n",
       "       [ 1.00000000e+00, -1.66034773e+00,  2.75675458e+00],\n",
       "       [ 1.00000000e+00,  1.24071162e+00,  1.53936532e+00],\n",
       "       [ 1.00000000e+00,  2.95993209e+00,  8.76119799e+00]])"
      ]
     },
     "execution_count": 8,
     "metadata": {},
     "output_type": "execute_result"
    }
   ],
   "source": [
    "poly = PolynomialFeatures(degree=2) # random degree which gives best accuracy (like random state)\n",
    "x_poly = poly.fit_transform(x_train)\n",
    "x_poly"
   ]
  },
  {
   "cell_type": "code",
   "execution_count": 9,
   "metadata": {},
   "outputs": [],
   "source": [
    "x_test = poly.fit_transform(x_test)\n",
    "lr.fit(x_poly,y_train)\n",
    "y_pred = lr.predict(x_test)"
   ]
  },
  {
   "cell_type": "code",
   "execution_count": 10,
   "metadata": {},
   "outputs": [
    {
     "name": "stdout",
     "output_type": "stream",
     "text": [
      "Sq Err: 14.878796440981455\n",
      "Abs Err: 3.2299819836597257\n",
      "R2 Score: 0.8430551371938844\n"
     ]
    }
   ],
   "source": [
    "print('Sq Err:',mean_squared_error(y_test, y_pred))\n",
    "print('Abs Err:',mean_absolute_error(y_test, y_pred))\n",
    "print('R2 Score:',r2_score(y_test, y_pred))"
   ]
  },
  {
   "cell_type": "code",
   "execution_count": 11,
   "metadata": {},
   "outputs": [],
   "source": [
    "# deg 3:\n",
    "# Sq Err: 15.120009451229436\n",
    "# Abs Err: 3.228121129776887\n",
    "# R2 Score: 0.840510768571692"
   ]
  },
  {
   "cell_type": "code",
   "execution_count": 12,
   "metadata": {},
   "outputs": [],
   "source": [
    "# deg 2:\n",
    "# Sq Err: 14.878796440981455\n",
    "# Abs Err: 3.2299819836597257\n",
    "# R2 Score: 0.8430551371938844"
   ]
  }
 ],
 "metadata": {
  "kernelspec": {
   "display_name": "Python 3",
   "language": "python",
   "name": "python3"
  },
  "language_info": {
   "codemirror_mode": {
    "name": "ipython",
    "version": 3
   },
   "file_extension": ".py",
   "mimetype": "text/x-python",
   "name": "python",
   "nbconvert_exporter": "python",
   "pygments_lexer": "ipython3",
   "version": "3.8.5"
  }
 },
 "nbformat": 4,
 "nbformat_minor": 4
}
